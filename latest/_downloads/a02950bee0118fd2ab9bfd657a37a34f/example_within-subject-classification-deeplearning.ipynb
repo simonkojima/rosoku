{
  "cells": [
    {
      "cell_type": "markdown",
      "metadata": {},
      "source": [
        "\n# Example: Within-subject classification with deep learning\n"
      ]
    },
    {
      "cell_type": "code",
      "execution_count": null,
      "metadata": {
        "collapsed": false
      },
      "outputs": [],
      "source": [
        "import random\nimport numpy as np\nimport matplotlib.pyplot as plt\n\nfrom pathlib import Path\n\nimport mne\nimport tag_mne as tm\n\nimport torch\nimport braindecode\nimport rosoku"
      ]
    },
    {
      "cell_type": "code",
      "execution_count": null,
      "metadata": {
        "collapsed": false
      },
      "outputs": [],
      "source": [
        "np.random.seed(42)\nrandom.seed(42)\ntorch.manual_seed(42)\ntorch.cuda.manual_seed(42)\ntorch.cuda.manual_seed_all(42)"
      ]
    },
    {
      "cell_type": "code",
      "execution_count": null,
      "metadata": {
        "collapsed": false
      },
      "outputs": [],
      "source": [
        "subject = 7\n\nlr = 1e-3\nweight_decay = 1e-2\nn_epochs = 500\nbatch_size = 2\npatience = 75\nenable_euclidean_alignment = False\nenable_normalization = True\ndevice = \"cuda\" if torch.cuda.is_available() else \"cpu\"\nenable_ddp = False\nenable_dp = False\n\nsave_base = Path(\"~\").expanduser() / \"rosoku-log\"\n(save_base / \"checkpoint\").mkdir(parents=True, exist_ok=True)\n(save_base / \"history\").mkdir(parents=True, exist_ok=True)"
      ]
    },
    {
      "cell_type": "code",
      "execution_count": null,
      "metadata": {
        "collapsed": false
      },
      "outputs": [],
      "source": [
        "def func_proc_epochs(epochs, mode, tmin=0, tmax=2):\n    epochs = epochs.pick(picks=\"eeg\").crop(tmin=tmin, tmax=tmax)\n    return epochs\n\n\ndef func_load_epochs(keywords, mode, tmin=-1, tmax=2.5, runs=[4, 8, 12]):\n\n    subject = keywords[0]\n\n    fnames = mne.datasets.eegbci.load_data(subject, runs, update_path=True)\n\n    epochs_list = []\n    for fname, run in zip(fnames, runs):\n        raw = mne.io.read_raw_edf(fname, preload=True)\n\n        events, event_id = mne.events_from_annotations(raw)\n\n        samples, markers = tm.markers_from_events(events, event_id)\n\n        event_names = {\"left\": \"T1\", \"right\": \"T2\"}\n        markers = tm.add_event_names(markers, event_names)\n\n        markers = tm.add_tag(markers, f\"run:{run}\")\n        samples, markers = tm.remove(samples, markers, \"marker:T0\")\n\n        events, event_id = tm.events_from_markers(samples, markers)\n\n        raw.filter(\n            l_freq=12,\n            h_freq=15,\n            method=\"iir\",\n            iir_params={\"order\": 4, \"ftype\": \"butterworth\", \"btype\": \"bandpass\"},\n            phase=\"zero\",\n        )\n\n        epochs_run = mne.Epochs(\n            raw, events, event_id, tmin=tmin, tmax=tmax, preload=True\n        )\n\n        epochs_run = epochs_run.resample(128)\n\n        epochs_list.append(epochs_run)\n\n    epochs = tm.concatenate_epochs(epochs_list)\n\n    if mode == \"train\":\n        return epochs[\"run:4\"]\n    elif mode == \"valid\":\n        return epochs[\"run:8\"]\n    elif mode == \"test\":\n        return epochs[\"run:12\"]\n\n\ndef func_get_model(X, y):\n    _, n_chans, n_times = X.shape\n    F1 = 4\n    D = 2\n    F2 = F1 * D\n\n    model = braindecode.models.EEGNetv4(\n        n_chans=n_chans,\n        n_outputs=2,\n        n_times=n_times,\n        F1=F1,\n        D=D,\n        F2=F2,\n        drop_prob=0.5,\n    )\n\n    return model"
      ]
    },
    {
      "cell_type": "code",
      "execution_count": null,
      "metadata": {
        "collapsed": false
      },
      "outputs": [],
      "source": [
        "label_keys = {\"event:left\": 0, \"event:right\": 1}\n\ncriterion = torch.nn.CrossEntropyLoss()\nscheduler = torch.optim.lr_scheduler.CosineAnnealingLR\nscheduler_params = {\"T_max\": n_epochs, \"eta_min\": 1e-6}\noptimizer = torch.optim.AdamW\noptimizer_params = {\"lr\": lr, \"weight_decay\": weight_decay}\nearly_stopping = rosoku.utils.EarlyStopping(patience=patience)\n\nresults = rosoku.deeplearning(\n    keywords_train=[subject],\n    keywords_valid=[subject],\n    keywords_test=[subject],\n    func_load_epochs=func_load_epochs,\n    apply_func_proc_per_obj=True,\n    batch_size=batch_size,\n    n_epochs=n_epochs,\n    criterion=criterion,\n    optimizer=optimizer,\n    optimizer_params=optimizer_params,\n    func_get_model=func_get_model,\n    scheduler=scheduler,\n    scheduler_params=scheduler_params,\n    device=device,\n    enable_ddp=enable_ddp,\n    func_proc_epochs=func_proc_epochs,\n    label_keys=label_keys,\n    early_stopping=early_stopping,\n    enable_normalization=enable_normalization,\n    name_classifier=\"eegnet4.2\",\n    history_fname=(save_base / \"history\" / f\"sub-{subject}\"),\n    checkpoint_fname=(save_base / \"checkpoint\" / f\"sub-{subject}\"),\n    desc=\"eegnet4.2/drop_prob=0.25\",\n    enable_wandb_logging=False,\n    wandb_params={\n        \"project\": \"wandb-project-name\",\n        \"name\": f\"sub-{subject}\",\n    },\n)\n\nprint(results.loc[0])"
      ]
    }
  ],
  "metadata": {
    "kernelspec": {
      "display_name": "Python 3",
      "language": "python",
      "name": "python3"
    },
    "language_info": {
      "codemirror_mode": {
        "name": "ipython",
        "version": 3
      },
      "file_extension": ".py",
      "mimetype": "text/x-python",
      "name": "python",
      "nbconvert_exporter": "python",
      "pygments_lexer": "ipython3",
      "version": "3.11.13"
    }
  },
  "nbformat": 4,
  "nbformat_minor": 0
}