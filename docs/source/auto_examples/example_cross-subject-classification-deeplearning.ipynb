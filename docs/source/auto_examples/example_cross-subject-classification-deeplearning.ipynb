{
  "cells": [
    {
      "cell_type": "markdown",
      "metadata": {},
      "source": [
        "\n# Example: Cross-subject classification with deep learning\n"
      ]
    },
    {
      "cell_type": "code",
      "execution_count": null,
      "metadata": {
        "collapsed": false
      },
      "outputs": [],
      "source": [
        "import functools\nimport numpy as np\n\nfrom pathlib import Path\n\nimport mne\nimport tag_mne as tm\n\nimport moabb.datasets\n\nimport torch\nimport braindecode\nimport rosoku"
      ]
    },
    {
      "cell_type": "code",
      "execution_count": null,
      "metadata": {
        "collapsed": false
      },
      "outputs": [],
      "source": [
        "lr = 1e-3\nweight_decay = 1e-2\nn_epochs = 500\nbatch_size = 64\npatience = 75\nenable_normalization = True\ndevice = \"cuda\" if torch.cuda.is_available() else \"cpu\"\nenable_ddp = False\nenable_dp = False\n\nseed = 42\n\nsave_base = Path(\"~\").expanduser() / \"rosoku-log\"\n(save_base / \"checkpoint\").mkdir(parents=True, exist_ok=True)\n(save_base / \"history\").mkdir(parents=True, exist_ok=True)"
      ]
    },
    {
      "cell_type": "code",
      "execution_count": null,
      "metadata": {
        "collapsed": false
      },
      "outputs": [],
      "source": [
        "# load dataset and generate epochs\n\n\ndef func_load_ndarray(\n    keywords,\n    mode,\n    tmin,\n    tmax,\n    l_freq,\n    h_freq,\n    order_filter,\n    resample,\n    label_keys,\n    dataset,\n):\n\n    X = []\n    y = []\n    for keyword in keywords:\n        subject = int(keyword[1:])\n        sessions = dataset.get_data(subjects=[subject])\n        raws = sessions[subject][\"0\"]\n\n        epochs_subject = list()\n        for name, raw in raws.items():\n\n            raw.filter(\n                l_freq=l_freq,\n                h_freq=h_freq,\n                method=\"iir\",\n                iir_params={\n                    \"ftype\": \"butter\",\n                    \"order\": order_filter,\n                    \"btype\": \"bandpass\",\n                },\n            )\n\n            # eog and emg mapping\n            mapping = dict()\n            for ch in raw.ch_names:\n                if \"EOG\" in ch:\n                    mapping[ch] = \"eog\"\n                elif \"EMG\" in ch:\n                    mapping[ch] = \"emg\"\n\n            raw.set_channel_types(mapping)\n            raw.set_montage(\"standard_1020\")\n\n            events, event_id = mne.events_from_annotations(raw)\n\n            samples, markers = tm.markers_from_events(events, event_id)\n            markers = tm.add_tag(markers, f\"subject:{subject}\")\n            markers = tm.add_event_names(\n                markers, {\"left\": [\"left_hand\"], \"right\": [\"right_hand\"]}\n            )\n            markers = tm.add_tag(markers, f\"run:{name}\")\n            # markers = tm.add_tag(markers, f\"rtype:{rtype}\")\n\n            samples, markers = tm.remove(samples, markers, \"event:misc\")\n\n            events, event_id = tm.events_from_markers(samples, markers)\n            epochs = mne.Epochs(\n                raw=raw,\n                tmin=tmin - 1.0,\n                tmax=tmax + 1.0,\n                events=events,\n                event_id=event_id,\n                baseline=None,\n            ).load_data()\n\n            epochs.resample(resample)\n\n            epochs_subject.append(epochs)\n\n        epochs_subject = tm.concatenate_epochs(epochs_subject)\n\n        epochs_subject = epochs_subject.crop(tmin=tmin, tmax=tmax).pick(picks=\"eeg\")\n\n        y_subject = rosoku.utils.get_labels_from_epochs(\n            epochs_subject, label_keys=label_keys\n        )\n\n        X_subject = rosoku.tl.euclidean_alignment(epochs_subject.get_data())\n\n        y.append(y_subject)\n        X.append(X_subject)\n\n    X = np.concatenate(X, axis=0)\n    y = np.concatenate(y, axis=0)\n\n    return X, y"
      ]
    },
    {
      "cell_type": "code",
      "execution_count": null,
      "metadata": {
        "collapsed": false
      },
      "outputs": [],
      "source": [
        "def func_get_model(X, y):\n    _, n_chans, n_times = X.shape\n    F1 = 4\n    D = 2\n    F2 = F1 * D\n\n    model = braindecode.models.EEGNetv4(\n        n_chans=n_chans,\n        n_outputs=2,\n        n_times=n_times,\n        F1=F1,\n        D=D,\n        F2=F2,\n        drop_prob=0.25,\n    )\n\n    return model"
      ]
    },
    {
      "cell_type": "markdown",
      "metadata": {},
      "source": [
        "label_keys = {\"event:left\": 0, \"event:right\": 1}\n\n"
      ]
    },
    {
      "cell_type": "code",
      "execution_count": null,
      "metadata": {
        "collapsed": false
      },
      "outputs": [],
      "source": [
        "criterion = torch.nn.CrossEntropyLoss()\nscheduler = torch.optim.lr_scheduler.CosineAnnealingLR\nscheduler_params = {\"T_max\": n_epochs, \"eta_min\": 1e-6}\noptimizer = torch.optim.AdamW\noptimizer_params = {\"lr\": lr, \"weight_decay\": weight_decay}\nearly_stopping = rosoku.utils.EarlyStopping(patience=patience)\n\nresults = rosoku.deeplearning(\n    keywords_train=[f\"A{num}\" for num in range(1, 16)],\n    keywords_valid=[f\"A{num}\" for num in range(16, 21)],\n    keywords_test=[\"A21\", \"A56\"],\n    func_load_ndarray=functools.partial(\n        func_load_ndarray,\n        dataset=moabb.datasets.Dreyer2023(),\n        tmin=0.5,\n        tmax=4.5,\n        l_freq=8.0,\n        h_freq=30.0,\n        order_filter=4,\n        resample=128,\n        label_keys={\"event:left\": 0, \"event:right\": 1},\n    ),\n    batch_size=batch_size,\n    n_epochs=n_epochs,\n    criterion=criterion,\n    optimizer=optimizer,\n    optimizer_params=optimizer_params,\n    func_get_model=func_get_model,\n    scheduler=scheduler,\n    scheduler_params=scheduler_params,\n    device=device,\n    enable_ddp=enable_ddp,\n    func_proc_epochs=None,\n    early_stopping=early_stopping,\n    enable_normalization=enable_normalization,\n    name_classifier=\"eegnet4.2\",\n    history_fname=(save_base / \"history\" / f\"cross-subject-deeplearning.json\"),\n    checkpoint_fname=(save_base / \"checkpoint\" / f\"cross-subject-deeplearning.pth\"),\n    desc=\"eegnet4.2/drop_prob=0.25\",\n    enable_wandb_logging=False,\n    # wandb_params={\n    #    \"project\": \"wandb-project-name\",\n    #    \"name\": f\"sub-{subject}\",\n    # },\n    seed=seed,\n)\n\nfor m in range(results.shape[0]):\n    print(results.loc[m])"
      ]
    }
  ],
  "metadata": {
    "kernelspec": {
      "display_name": "Python 3",
      "language": "python",
      "name": "python3"
    },
    "language_info": {
      "codemirror_mode": {
        "name": "ipython",
        "version": 3
      },
      "file_extension": ".py",
      "mimetype": "text/x-python",
      "name": "python",
      "nbconvert_exporter": "python",
      "pygments_lexer": "ipython3",
      "version": "3.11.13"
    }
  },
  "nbformat": 4,
  "nbformat_minor": 0
}