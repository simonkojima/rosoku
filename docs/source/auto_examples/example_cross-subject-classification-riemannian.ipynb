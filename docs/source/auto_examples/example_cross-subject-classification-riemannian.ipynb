{
  "cells": [
    {
      "cell_type": "markdown",
      "metadata": {},
      "source": [
        "\n# Example: Within-subject classification with deep learning\n"
      ]
    },
    {
      "cell_type": "code",
      "execution_count": null,
      "metadata": {
        "collapsed": false
      },
      "outputs": [],
      "source": [
        "import functools\nimport numpy as np\nimport matplotlib.pyplot as plt\n\nfrom pathlib import Path\n\nimport mne\nimport tag_mne as tm\n\nimport moabb.datasets\n\nimport torch\nimport pyriemann\nimport rosoku"
      ]
    },
    {
      "cell_type": "code",
      "execution_count": null,
      "metadata": {
        "collapsed": false
      },
      "outputs": [],
      "source": [
        "# load dataset and generate epochs\n\n\ndef func_load_ndarray(\n    keywords,\n    mode,\n    tmin,\n    tmax,\n    l_freq,\n    h_freq,\n    order_filter,\n    resample,\n    label_keys,\n    dataset,\n):\n\n    X = []\n    y = []\n    for keyword in keywords:\n        subject = int(keyword[1:])\n        sessions = dataset.get_data(subjects=[subject])\n        raws = sessions[subject][\"0\"]\n\n        epochs_subject = list()\n        for name, raw in raws.items():\n\n            raw.filter(\n                l_freq=l_freq,\n                h_freq=h_freq,\n                method=\"iir\",\n                iir_params={\n                    \"ftype\": \"butter\",\n                    \"order\": order_filter,\n                    \"btype\": \"bandpass\",\n                },\n            )\n\n            # eog and emg mapping\n            mapping = dict()\n            for ch in raw.ch_names:\n                if \"EOG\" in ch:\n                    mapping[ch] = \"eog\"\n                elif \"EMG\" in ch:\n                    mapping[ch] = \"emg\"\n\n            raw.set_channel_types(mapping)\n            raw.set_montage(\"standard_1020\")\n\n            events, event_id = mne.events_from_annotations(raw)\n\n            samples, markers = tm.markers_from_events(events, event_id)\n            markers = tm.add_tag(markers, f\"subject:{subject}\")\n            markers = tm.add_event_names(\n                markers, {\"left\": [\"left_hand\"], \"right\": [\"right_hand\"]}\n            )\n            markers = tm.add_tag(markers, f\"run:{name}\")\n            # markers = tm.add_tag(markers, f\"rtype:{rtype}\")\n\n            samples, markers = tm.remove(samples, markers, \"event:misc\")\n\n            events, event_id = tm.events_from_markers(samples, markers)\n            epochs = mne.Epochs(\n                raw=raw,\n                tmin=tmin - 1.0,\n                tmax=tmax + 1.0,\n                events=events,\n                event_id=event_id,\n                baseline=None,\n            ).load_data()\n\n            epochs.resample(resample)\n\n            epochs_subject.append(epochs)\n\n        epochs_subject = tm.concatenate_epochs(epochs_subject)\n\n        epochs_subject = epochs_subject.crop(tmin=tmin, tmax=tmax).pick(picks=\"eeg\")\n\n        y_subject = rosoku.utils.get_labels_from_epochs(\n            epochs_subject, label_keys=label_keys\n        )\n\n        X_subject = pyriemann.estimation.Covariances().transform(\n            epochs_subject.get_data()\n        )\n\n        X_subject = rosoku.tl.riemannian_alignment(X_subject, scaling=True)\n\n        y.append(y_subject)\n        X.append(X_subject)\n\n    if mode != \"test\":\n        X = np.concatenate(X, axis=0)\n        y = np.concatenate(y, axis=0)\n\n    return X, y"
      ]
    },
    {
      "cell_type": "code",
      "execution_count": null,
      "metadata": {
        "collapsed": false
      },
      "outputs": [],
      "source": [
        "def convert_epochs_to_ndarray(\n    epochs_train,\n    epochs_test,\n    label_keys,\n):\n\n    X_train = epochs_train.get_data()\n    X_test = epochs_test.get_data()\n\n    X_train = pyriemann.estimation.Covariances().transform(X_train)\n    X_test = pyriemann.estimation.Covariances().transform(X_test)\n\n    y_train = rosoku.utils.get_labels_from_epochs(epochs_train, label_keys)\n    y_test = rosoku.utils.get_labels_from_epochs(epochs_test, label_keys)\n\n    return X_train, X_test, y_train, y_test"
      ]
    },
    {
      "cell_type": "code",
      "execution_count": null,
      "metadata": {
        "collapsed": false
      },
      "outputs": [],
      "source": [
        "label_keys = {\"event:left\": 0, \"event:right\": 1}\n\nresults = rosoku.conventional(\n    keywords_train=[f\"A{num}\" for num in range(1, 21)],\n    keywords_test=[\"A21\", \"A56\"],\n    func_load_ndarray=functools.partial(\n        func_load_ndarray,\n        dataset=moabb.datasets.Dreyer2023(),\n        tmin=0.5,\n        tmax=4.5,\n        l_freq=8.0,\n        h_freq=30.0,\n        order_filter=4,\n        resample=128,\n        label_keys={\"event:left\": 0, \"event:right\": 1},\n    ),\n    compile_test=False,\n)\n\nfor m in range(results.shape[0]):\n    print(results.loc[m])"
      ]
    }
  ],
  "metadata": {
    "kernelspec": {
      "display_name": "Python 3",
      "language": "python",
      "name": "python3"
    },
    "language_info": {
      "codemirror_mode": {
        "name": "ipython",
        "version": 3
      },
      "file_extension": ".py",
      "mimetype": "text/x-python",
      "name": "python",
      "nbconvert_exporter": "python",
      "pygments_lexer": "ipython3",
      "version": "3.11.13"
    }
  },
  "nbformat": 4,
  "nbformat_minor": 0
}