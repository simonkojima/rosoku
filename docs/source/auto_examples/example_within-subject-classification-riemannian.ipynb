{
  "cells": [
    {
      "cell_type": "markdown",
      "metadata": {},
      "source": [
        "\n# Example: Within-subject classification with riemannian classifier\n"
      ]
    },
    {
      "cell_type": "code",
      "execution_count": null,
      "metadata": {
        "collapsed": false
      },
      "outputs": [],
      "source": [
        "import functools\n\nimport mne\nimport tag_mne as tm\n\nimport moabb.datasets\n\nimport pyriemann\nimport rosoku"
      ]
    },
    {
      "cell_type": "code",
      "execution_count": null,
      "metadata": {
        "collapsed": false
      },
      "outputs": [],
      "source": [
        "subject = 56\nresample = 128"
      ]
    },
    {
      "cell_type": "code",
      "execution_count": null,
      "metadata": {
        "collapsed": false
      },
      "outputs": [],
      "source": [
        "# load dataset and generate epochs\n\n\ndef epochs_from_raws(\n    raws, runs, rtypes, tmin, tmax, l_freq, h_freq, order_filter, subject\n):\n    epochs_list = list()\n    for raw, run, rtype in zip(raws, runs, rtypes):\n\n        raw.filter(\n            l_freq=l_freq,\n            h_freq=h_freq,\n            method=\"iir\",\n            iir_params={\"ftype\": \"butter\", \"order\": order_filter, \"btype\": \"bandpass\"},\n        )\n\n        # eog and emg mapping\n        mapping = dict()\n        for ch in raw.ch_names:\n            if \"EOG\" in ch:\n                mapping[ch] = \"eog\"\n            elif \"EMG\" in ch:\n                mapping[ch] = \"emg\"\n\n        raw.set_channel_types(mapping)\n        raw.set_montage(\"standard_1020\")\n\n        events, event_id = mne.events_from_annotations(raw)\n\n        samples, markers = tm.markers_from_events(events, event_id)\n        markers = tm.add_tag(markers, f\"subject:{subject}\")\n        markers = tm.add_event_names(\n            markers, {\"left\": [\"left_hand\"], \"right\": [\"right_hand\"]}\n        )\n        markers = tm.add_tag(markers, f\"run:{run}\")\n        markers = tm.add_tag(markers, f\"rtype:{rtype}\")\n\n        samples, markers = tm.remove(samples, markers, \"event:misc\")\n\n        events, event_id = tm.events_from_markers(samples, markers)\n        epochs = mne.Epochs(\n            raw=raw,\n            tmin=tmin,\n            tmax=tmax,\n            events=events,\n            event_id=event_id,\n            baseline=None,\n        )\n\n        epochs_list.append(epochs)\n\n    epochs = tm.concatenate_epochs(epochs_list)\n\n    return epochs\n\n\ndataset = moabb.datasets.Dreyer2023()\nsessions = dataset.get_data(subjects=[subject])\nraws = sessions[subject][\"0\"]\n\nepochs_acquisition = epochs_from_raws(\n    raws=[raws[key] for key in [\"0R1acquisition\", \"1R2acquisition\"]],\n    runs=[1, 2],\n    rtypes=[\"acquisition\", \"acquisition\"],\n    tmin=-1.0,\n    tmax=5.5,\n    l_freq=8.0,\n    h_freq=30.0,\n    order_filter=4,\n    subject=subject,\n).resample(resample)\n\nepochs_online = epochs_from_raws(\n    raws=[raws[key] for key in [\"2R3online\", \"3R4online\", \"4R5online\"]],\n    runs=[3, 4, 5],\n    rtypes=[\"online\", \"online\", \"online\"],\n    tmin=-1.0,\n    tmax=5.5,\n    l_freq=8.0,\n    h_freq=30.0,\n    order_filter=4,\n    subject=subject,\n).resample(resample)\n\nepochs = tm.concatenate_epochs([epochs_acquisition, epochs_online])"
      ]
    },
    {
      "cell_type": "code",
      "execution_count": null,
      "metadata": {
        "collapsed": false
      },
      "outputs": [],
      "source": [
        "def func_proc_epochs(epochs, mode, tmin=0.5, tmax=4.5):\n    epochs = epochs.pick(picks=\"eeg\").crop(tmin=tmin, tmax=tmax)\n    return epochs\n\n\ndef func_load_epochs(keywords, mode, epochs):\n    return epochs[keywords]\n\n\ndef convert_epochs_to_ndarray(\n    epochs,\n    label_keys,\n):\n\n    X = epochs.get_data()\n    X = pyriemann.estimation.Covariances().transform(X)\n    y = rosoku.utils.get_labels_from_epochs(epochs, label_keys)\n\n    return X, y"
      ]
    },
    {
      "cell_type": "code",
      "execution_count": null,
      "metadata": {
        "collapsed": false
      },
      "outputs": [],
      "source": [
        "label_keys = {\"event:left\": 0, \"event:right\": 1}\n\nresults = rosoku.conventional(\n    keywords_train=[\"run:1\", \"run:2\"],\n    keywords_test=[[\"run:3\", \"run:4\", \"run:5\"]],\n    func_load_epochs=functools.partial(func_load_epochs, epochs=epochs),\n    func_proc_epochs=func_proc_epochs,\n    func_convert_epochs_to_ndarray=functools.partial(\n        convert_epochs_to_ndarray, label_keys=label_keys\n    ),\n)\n\nfor m in range(results.shape[0]):\n    print(results.loc[m])"
      ]
    }
  ],
  "metadata": {
    "kernelspec": {
      "display_name": "Python 3",
      "language": "python",
      "name": "python3"
    },
    "language_info": {
      "codemirror_mode": {
        "name": "ipython",
        "version": 3
      },
      "file_extension": ".py",
      "mimetype": "text/x-python",
      "name": "python",
      "nbconvert_exporter": "python",
      "pygments_lexer": "ipython3",
      "version": "3.11.13"
    }
  },
  "nbformat": 4,
  "nbformat_minor": 0
}