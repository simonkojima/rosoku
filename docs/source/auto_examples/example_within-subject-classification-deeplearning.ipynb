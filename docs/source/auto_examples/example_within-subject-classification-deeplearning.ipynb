{
  "cells": [
    {
      "cell_type": "markdown",
      "metadata": {},
      "source": [
        "\n# Example: Within-subject classification with deep learning\n"
      ]
    },
    {
      "cell_type": "code",
      "execution_count": null,
      "metadata": {
        "collapsed": false
      },
      "outputs": [],
      "source": [
        "import functools\n\nfrom pathlib import Path\n\nimport mne\nimport tag_mne as tm\n\nimport moabb.datasets\n\nimport torch\nimport braindecode\nimport rosoku"
      ]
    },
    {
      "cell_type": "code",
      "execution_count": null,
      "metadata": {
        "collapsed": false
      },
      "outputs": [],
      "source": [
        "subject = 56\nresample = 128\n\nlr = 1e-3\nweight_decay = 1e-2\nn_epochs = 500\nbatch_size = 8\npatience = 75\nenable_euclidean_alignment = False\nenable_normalization = True\ndevice = \"cuda\" if torch.cuda.is_available() else \"cpu\"\nenable_ddp = False\nenable_dp = False\n\nseed = 42\n\nsave_base = Path(\"~\").expanduser() / \"rosoku-log\"\n(save_base / \"checkpoint\").mkdir(parents=True, exist_ok=True)\n(save_base / \"history\").mkdir(parents=True, exist_ok=True)"
      ]
    },
    {
      "cell_type": "code",
      "execution_count": null,
      "metadata": {
        "collapsed": false
      },
      "outputs": [],
      "source": [
        "# load dataset and generate epochs\n\n\ndef epochs_from_raws(\n    raws, runs, rtypes, tmin, tmax, l_freq, h_freq, order_filter, subject\n):\n    epochs_list = list()\n    for raw, run, rtype in zip(raws, runs, rtypes):\n\n        raw.filter(\n            l_freq=l_freq,\n            h_freq=h_freq,\n            method=\"iir\",\n            iir_params={\"ftype\": \"butter\", \"order\": 4, \"btype\": \"bandpass\"},\n        )\n\n        # eog and emg mapping\n        mapping = dict()\n        for ch in raw.ch_names:\n            if \"EOG\" in ch:\n                mapping[ch] = \"eog\"\n            elif \"EMG\" in ch:\n                mapping[ch] = \"emg\"\n\n        raw.set_channel_types(mapping)\n        raw.set_montage(\"standard_1020\")\n\n        events, event_id = mne.events_from_annotations(raw)\n\n        samples, markers = tm.markers_from_events(events, event_id)\n        markers = tm.add_tag(markers, f\"subject:{subject}\")\n        markers = tm.add_event_names(\n            markers, {\"left\": [\"left_hand\"], \"right\": [\"right_hand\"]}\n        )\n        markers = tm.add_tag(markers, f\"run:{run}\")\n        markers = tm.add_tag(markers, f\"rtype:{rtype}\")\n\n        samples, markers = tm.remove(samples, markers, \"event:misc\")\n\n        events, event_id = tm.events_from_markers(samples, markers)\n        epochs = mne.Epochs(\n            raw=raw,\n            tmin=tmin,\n            tmax=tmax,\n            events=events,\n            event_id=event_id,\n            baseline=None,\n        )\n\n        epochs_list.append(epochs)\n\n    epochs = tm.concatenate_epochs(epochs_list)\n\n    return epochs\n\n\ndataset = moabb.datasets.Dreyer2023()\nsessions = dataset.get_data(subjects=[subject])\nraws = sessions[subject][\"0\"]\n\nepochs_acquisition = epochs_from_raws(\n    raws=[raws[key] for key in [\"0R1acquisition\", \"1R2acquisition\"]],\n    runs=[1, 2],\n    rtypes=[\"acquisition\", \"acquisition\"],\n    tmin=-1.0,\n    tmax=5.5,\n    l_freq=8.0,\n    h_freq=30.0,\n    order_filter=4,\n    subject=subject,\n).resample(resample)\n\nepochs_online = epochs_from_raws(\n    raws=[raws[key] for key in [\"2R3online\", \"3R4online\", \"4R5online\"]],\n    runs=[3, 4, 5],\n    rtypes=[\"online\", \"online\", \"online\"],\n    tmin=-1.0,\n    tmax=5.5,\n    l_freq=8.0,\n    h_freq=30.0,\n    order_filter=4,\n    subject=subject,\n).resample(resample)\n\nepochs = tm.concatenate_epochs([epochs_acquisition, epochs_online])"
      ]
    },
    {
      "cell_type": "code",
      "execution_count": null,
      "metadata": {
        "collapsed": false
      },
      "outputs": [],
      "source": [
        "def func_proc_epochs(epochs, mode, tmin=0.5, tmax=4.5):\n    epochs = epochs.pick(picks=\"eeg\").crop(tmin=tmin, tmax=tmax)\n    return epochs\n\n\ndef func_load_epochs(keywords, mode, epochs):\n    return epochs[keywords]\n\n\ndef func_get_model(X, y):\n    _, n_chans, n_times = X.shape\n    F1 = 4\n    D = 2\n    F2 = F1 * D\n\n    model = braindecode.models.EEGNetv4(\n        n_chans=n_chans,\n        n_outputs=2,\n        n_times=n_times,\n        F1=F1,\n        D=D,\n        F2=F2,\n        drop_prob=0.5,\n    )\n\n    return model"
      ]
    },
    {
      "cell_type": "code",
      "execution_count": null,
      "metadata": {
        "collapsed": false
      },
      "outputs": [],
      "source": [
        "criterion = torch.nn.CrossEntropyLoss()\nscheduler = torch.optim.lr_scheduler.CosineAnnealingLR\nscheduler_params = {\"T_max\": n_epochs, \"eta_min\": 1e-6}\noptimizer = torch.optim.AdamW\noptimizer_params = {\"lr\": lr, \"weight_decay\": weight_decay}\nearly_stopping = rosoku.utils.EarlyStopping(patience=patience)\n\nresults = rosoku.deeplearning(\n    keywords_train=[\"run:1\", \"run:2\"],\n    keywords_valid=[\"run:3\"],\n    keywords_test=[\"run:4\"],\n    func_load_epochs=functools.partial(func_load_epochs, epochs=epochs),\n    apply_func_proc_per_obj=True,\n    batch_size=batch_size,\n    n_epochs=n_epochs,\n    criterion=criterion,\n    optimizer=optimizer,\n    optimizer_params=optimizer_params,\n    func_get_model=func_get_model,\n    scheduler=scheduler,\n    scheduler_params=scheduler_params,\n    device=device,\n    enable_ddp=enable_ddp,\n    func_proc_epochs=func_proc_epochs,\n    early_stopping=early_stopping,\n    enable_normalization=enable_normalization,\n    name_classifier=\"eegnet4.2\",\n    history_fname=(save_base / \"history\" / f\"sub-{subject}\"),\n    checkpoint_fname=(save_base / \"checkpoint\" / f\"sub-{subject}\"),\n    desc=\"eegnet4.2/drop_prob=0.25\",\n    enable_wandb_logging=False,\n    wandb_params={\n        \"project\": \"wandb-project-name\",\n        \"name\": f\"sub-{subject}\",\n    },\n    seed=seed,\n)\n\nprint(results.loc[0])"
      ]
    }
  ],
  "metadata": {
    "kernelspec": {
      "display_name": "Python 3",
      "language": "python",
      "name": "python3"
    },
    "language_info": {
      "codemirror_mode": {
        "name": "ipython",
        "version": 3
      },
      "file_extension": ".py",
      "mimetype": "text/x-python",
      "name": "python",
      "nbconvert_exporter": "python",
      "pygments_lexer": "ipython3",
      "version": "3.11.13"
    }
  },
  "nbformat": 4,
  "nbformat_minor": 0
}